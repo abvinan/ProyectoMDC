{
  "nbformat": 4,
  "nbformat_minor": 0,
  "metadata": {
    "colab": {
      "provenance": []
    },
    "kernelspec": {
      "name": "python3",
      "display_name": "Python 3"
    },
    "language_info": {
      "name": "python"
    }
  },
  "cells": [
    {
      "cell_type": "code",
      "execution_count": null,
      "metadata": {
        "id": "TYR4w2aNxLtr"
      },
      "outputs": [],
      "source": [
        "import streamlit as st\n",
        "import pandas as pd\n",
        "import plotly.express as px\n",
        "\n",
        "# Título de la aplicación\n",
        "st.title('Dashboard Interactivo de Ventas')\n",
        "\n",
        "# Datos de ejemplo\n",
        "df = pd.DataFrame({\n",
        "    'Producto': ['Producto A', 'Producto B', 'Producto C'],\n",
        "    'Ventas': [30, 45, 25]\n",
        "})\n",
        "\n",
        "# Dropdown para seleccionar el producto\n",
        "producto_seleccionado = st.selectbox('Selecciona un producto', df['Producto'])\n",
        "\n",
        "# Filtrar los datos según el producto seleccionado\n",
        "datos_filtrados = df[df['Producto'] == producto_seleccionado]\n",
        "\n",
        "# Crear gráfico usando Plotly\n",
        "fig = px.bar(datos_filtrados, x='Producto', y='Ventas', title=f'Ventas de {producto_seleccionado}')\n",
        "\n",
        "# Mostrar gráfico\n",
        "st.plotly_chart(fig)\n"
      ]
    }
  ]
}